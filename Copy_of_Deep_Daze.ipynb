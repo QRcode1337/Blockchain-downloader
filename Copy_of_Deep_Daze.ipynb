{
  "nbformat": 4,
  "nbformat_minor": 0,
  "metadata": {
    "colab": {
      "name": "Copy of Deep Daze",
      "provenance": [],
      "collapsed_sections": [],
      "include_colab_link": true
    },
    "kernelspec": {
      "name": "python3",
      "display_name": "Python 3"
    },
    "accelerator": "GPU"
  },
  "cells": [
    {
      "cell_type": "markdown",
      "metadata": {
        "id": "view-in-github",
        "colab_type": "text"
      },
      "source": [
        "<a href=\"https://colab.research.google.com/github/QRcode1337/Blockchain-downloader/blob/master/Copy_of_Deep_Daze.ipynb\" target=\"_parent\"><img src=\"https://colab.research.google.com/assets/colab-badge.svg\" alt=\"Open In Colab\"/></a>"
      ]
    },
    {
      "cell_type": "code",
      "metadata": {
        "colab": {
          "base_uri": "https://localhost:8080/"
        },
        "id": "YpRu6LTR2LbD",
        "outputId": "e940dd47-0ed2-489b-bf7e-724b13a79383"
      },
      "source": [
        "!pip install deep-daze --upgrade"
      ],
      "execution_count": 1,
      "outputs": [
        {
          "output_type": "stream",
          "text": [
            "Collecting deep-daze\n",
            "\u001b[?25l  Downloading https://files.pythonhosted.org/packages/f1/ed/b3f3d9d92f5a48932b3807f683642b28da75722ae93da2f9bdc6af5f1768/deep_daze-0.7.2-py3-none-any.whl (1.4MB)\n",
            "\r\u001b[K     |▎                               | 10kB 22.9MB/s eta 0:00:01\r\u001b[K     |▌                               | 20kB 20.9MB/s eta 0:00:01\r\u001b[K     |▊                               | 30kB 16.5MB/s eta 0:00:01\r\u001b[K     |█                               | 40kB 14.9MB/s eta 0:00:01\r\u001b[K     |█▏                              | 51kB 9.6MB/s eta 0:00:01\r\u001b[K     |█▍                              | 61kB 11.2MB/s eta 0:00:01\r\u001b[K     |█▊                              | 71kB 10.3MB/s eta 0:00:01\r\u001b[K     |██                              | 81kB 11.2MB/s eta 0:00:01\r\u001b[K     |██▏                             | 92kB 10.6MB/s eta 0:00:01\r\u001b[K     |██▍                             | 102kB 9.1MB/s eta 0:00:01\r\u001b[K     |██▋                             | 112kB 9.1MB/s eta 0:00:01\r\u001b[K     |██▉                             | 122kB 9.1MB/s eta 0:00:01\r\u001b[K     |███                             | 133kB 9.1MB/s eta 0:00:01\r\u001b[K     |███▍                            | 143kB 9.1MB/s eta 0:00:01\r\u001b[K     |███▋                            | 153kB 9.1MB/s eta 0:00:01\r\u001b[K     |███▉                            | 163kB 9.1MB/s eta 0:00:01\r\u001b[K     |████                            | 174kB 9.1MB/s eta 0:00:01\r\u001b[K     |████▎                           | 184kB 9.1MB/s eta 0:00:01\r\u001b[K     |████▌                           | 194kB 9.1MB/s eta 0:00:01\r\u001b[K     |████▊                           | 204kB 9.1MB/s eta 0:00:01\r\u001b[K     |█████                           | 215kB 9.1MB/s eta 0:00:01\r\u001b[K     |█████▎                          | 225kB 9.1MB/s eta 0:00:01\r\u001b[K     |█████▌                          | 235kB 9.1MB/s eta 0:00:01\r\u001b[K     |█████▊                          | 245kB 9.1MB/s eta 0:00:01\r\u001b[K     |██████                          | 256kB 9.1MB/s eta 0:00:01\r\u001b[K     |██████▏                         | 266kB 9.1MB/s eta 0:00:01\r\u001b[K     |██████▍                         | 276kB 9.1MB/s eta 0:00:01\r\u001b[K     |██████▊                         | 286kB 9.1MB/s eta 0:00:01\r\u001b[K     |███████                         | 296kB 9.1MB/s eta 0:00:01\r\u001b[K     |███████▏                        | 307kB 9.1MB/s eta 0:00:01\r\u001b[K     |███████▍                        | 317kB 9.1MB/s eta 0:00:01\r\u001b[K     |███████▋                        | 327kB 9.1MB/s eta 0:00:01\r\u001b[K     |███████▉                        | 337kB 9.1MB/s eta 0:00:01\r\u001b[K     |████████                        | 348kB 9.1MB/s eta 0:00:01\r\u001b[K     |████████▍                       | 358kB 9.1MB/s eta 0:00:01\r\u001b[K     |████████▋                       | 368kB 9.1MB/s eta 0:00:01\r\u001b[K     |████████▉                       | 378kB 9.1MB/s eta 0:00:01\r\u001b[K     |█████████                       | 389kB 9.1MB/s eta 0:00:01\r\u001b[K     |█████████▎                      | 399kB 9.1MB/s eta 0:00:01\r\u001b[K     |█████████▌                      | 409kB 9.1MB/s eta 0:00:01\r\u001b[K     |█████████▊                      | 419kB 9.1MB/s eta 0:00:01\r\u001b[K     |██████████                      | 430kB 9.1MB/s eta 0:00:01\r\u001b[K     |██████████▎                     | 440kB 9.1MB/s eta 0:00:01\r\u001b[K     |██████████▌                     | 450kB 9.1MB/s eta 0:00:01\r\u001b[K     |██████████▊                     | 460kB 9.1MB/s eta 0:00:01\r\u001b[K     |███████████                     | 471kB 9.1MB/s eta 0:00:01\r\u001b[K     |███████████▏                    | 481kB 9.1MB/s eta 0:00:01\r\u001b[K     |███████████▍                    | 491kB 9.1MB/s eta 0:00:01\r\u001b[K     |███████████▊                    | 501kB 9.1MB/s eta 0:00:01\r\u001b[K     |████████████                    | 512kB 9.1MB/s eta 0:00:01\r\u001b[K     |████████████▏                   | 522kB 9.1MB/s eta 0:00:01\r\u001b[K     |████████████▍                   | 532kB 9.1MB/s eta 0:00:01\r\u001b[K     |████████████▋                   | 542kB 9.1MB/s eta 0:00:01\r\u001b[K     |████████████▉                   | 552kB 9.1MB/s eta 0:00:01\r\u001b[K     |█████████████                   | 563kB 9.1MB/s eta 0:00:01\r\u001b[K     |█████████████▍                  | 573kB 9.1MB/s eta 0:00:01\r\u001b[K     |█████████████▋                  | 583kB 9.1MB/s eta 0:00:01\r\u001b[K     |█████████████▉                  | 593kB 9.1MB/s eta 0:00:01\r\u001b[K     |██████████████                  | 604kB 9.1MB/s eta 0:00:01\r\u001b[K     |██████████████▎                 | 614kB 9.1MB/s eta 0:00:01\r\u001b[K     |██████████████▌                 | 624kB 9.1MB/s eta 0:00:01\r\u001b[K     |██████████████▊                 | 634kB 9.1MB/s eta 0:00:01\r\u001b[K     |███████████████                 | 645kB 9.1MB/s eta 0:00:01\r\u001b[K     |███████████████▎                | 655kB 9.1MB/s eta 0:00:01\r\u001b[K     |███████████████▌                | 665kB 9.1MB/s eta 0:00:01\r\u001b[K     |███████████████▊                | 675kB 9.1MB/s eta 0:00:01\r\u001b[K     |████████████████                | 686kB 9.1MB/s eta 0:00:01\r\u001b[K     |████████████████▏               | 696kB 9.1MB/s eta 0:00:01\r\u001b[K     |████████████████▌               | 706kB 9.1MB/s eta 0:00:01\r\u001b[K     |████████████████▊               | 716kB 9.1MB/s eta 0:00:01\r\u001b[K     |█████████████████               | 727kB 9.1MB/s eta 0:00:01\r\u001b[K     |█████████████████▏              | 737kB 9.1MB/s eta 0:00:01\r\u001b[K     |█████████████████▍              | 747kB 9.1MB/s eta 0:00:01\r\u001b[K     |█████████████████▋              | 757kB 9.1MB/s eta 0:00:01\r\u001b[K     |█████████████████▉              | 768kB 9.1MB/s eta 0:00:01\r\u001b[K     |██████████████████▏             | 778kB 9.1MB/s eta 0:00:01\r\u001b[K     |██████████████████▍             | 788kB 9.1MB/s eta 0:00:01\r\u001b[K     |██████████████████▋             | 798kB 9.1MB/s eta 0:00:01\r\u001b[K     |██████████████████▉             | 808kB 9.1MB/s eta 0:00:01\r\u001b[K     |███████████████████             | 819kB 9.1MB/s eta 0:00:01\r\u001b[K     |███████████████████▎            | 829kB 9.1MB/s eta 0:00:01\r\u001b[K     |███████████████████▌            | 839kB 9.1MB/s eta 0:00:01\r\u001b[K     |███████████████████▉            | 849kB 9.1MB/s eta 0:00:01\r\u001b[K     |████████████████████            | 860kB 9.1MB/s eta 0:00:01\r\u001b[K     |████████████████████▎           | 870kB 9.1MB/s eta 0:00:01\r\u001b[K     |████████████████████▌           | 880kB 9.1MB/s eta 0:00:01\r\u001b[K     |████████████████████▊           | 890kB 9.1MB/s eta 0:00:01\r\u001b[K     |█████████████████████           | 901kB 9.1MB/s eta 0:00:01\r\u001b[K     |█████████████████████▏          | 911kB 9.1MB/s eta 0:00:01\r\u001b[K     |█████████████████████▌          | 921kB 9.1MB/s eta 0:00:01\r\u001b[K     |█████████████████████▊          | 931kB 9.1MB/s eta 0:00:01\r\u001b[K     |██████████████████████          | 942kB 9.1MB/s eta 0:00:01\r\u001b[K     |██████████████████████▏         | 952kB 9.1MB/s eta 0:00:01\r\u001b[K     |██████████████████████▍         | 962kB 9.1MB/s eta 0:00:01\r\u001b[K     |██████████████████████▋         | 972kB 9.1MB/s eta 0:00:01\r\u001b[K     |██████████████████████▉         | 983kB 9.1MB/s eta 0:00:01\r\u001b[K     |███████████████████████▏        | 993kB 9.1MB/s eta 0:00:01\r\u001b[K     |███████████████████████▍        | 1.0MB 9.1MB/s eta 0:00:01\r\u001b[K     |███████████████████████▋        | 1.0MB 9.1MB/s eta 0:00:01\r\u001b[K     |███████████████████████▉        | 1.0MB 9.1MB/s eta 0:00:01\r\u001b[K     |████████████████████████        | 1.0MB 9.1MB/s eta 0:00:01\r\u001b[K     |████████████████████████▎       | 1.0MB 9.1MB/s eta 0:00:01\r\u001b[K     |████████████████████████▌       | 1.1MB 9.1MB/s eta 0:00:01\r\u001b[K     |████████████████████████▉       | 1.1MB 9.1MB/s eta 0:00:01\r\u001b[K     |█████████████████████████       | 1.1MB 9.1MB/s eta 0:00:01\r\u001b[K     |█████████████████████████▎      | 1.1MB 9.1MB/s eta 0:00:01\r\u001b[K     |█████████████████████████▌      | 1.1MB 9.1MB/s eta 0:00:01\r\u001b[K     |█████████████████████████▊      | 1.1MB 9.1MB/s eta 0:00:01\r\u001b[K     |██████████████████████████      | 1.1MB 9.1MB/s eta 0:00:01\r\u001b[K     |██████████████████████████▏     | 1.1MB 9.1MB/s eta 0:00:01\r\u001b[K     |██████████████████████████▌     | 1.1MB 9.1MB/s eta 0:00:01\r\u001b[K     |██████████████████████████▊     | 1.1MB 9.1MB/s eta 0:00:01\r\u001b[K     |███████████████████████████     | 1.2MB 9.1MB/s eta 0:00:01\r\u001b[K     |███████████████████████████▏    | 1.2MB 9.1MB/s eta 0:00:01\r\u001b[K     |███████████████████████████▍    | 1.2MB 9.1MB/s eta 0:00:01\r\u001b[K     |███████████████████████████▋    | 1.2MB 9.1MB/s eta 0:00:01\r\u001b[K     |███████████████████████████▉    | 1.2MB 9.1MB/s eta 0:00:01\r\u001b[K     |████████████████████████████▏   | 1.2MB 9.1MB/s eta 0:00:01\r\u001b[K     |████████████████████████████▍   | 1.2MB 9.1MB/s eta 0:00:01\r\u001b[K     |████████████████████████████▋   | 1.2MB 9.1MB/s eta 0:00:01\r\u001b[K     |████████████████████████████▉   | 1.2MB 9.1MB/s eta 0:00:01\r\u001b[K     |█████████████████████████████   | 1.2MB 9.1MB/s eta 0:00:01\r\u001b[K     |█████████████████████████████▎  | 1.3MB 9.1MB/s eta 0:00:01\r\u001b[K     |█████████████████████████████▌  | 1.3MB 9.1MB/s eta 0:00:01\r\u001b[K     |█████████████████████████████▉  | 1.3MB 9.1MB/s eta 0:00:01\r\u001b[K     |██████████████████████████████  | 1.3MB 9.1MB/s eta 0:00:01\r\u001b[K     |██████████████████████████████▎ | 1.3MB 9.1MB/s eta 0:00:01\r\u001b[K     |██████████████████████████████▌ | 1.3MB 9.1MB/s eta 0:00:01\r\u001b[K     |██████████████████████████████▊ | 1.3MB 9.1MB/s eta 0:00:01\r\u001b[K     |███████████████████████████████ | 1.3MB 9.1MB/s eta 0:00:01\r\u001b[K     |███████████████████████████████▎| 1.3MB 9.1MB/s eta 0:00:01\r\u001b[K     |███████████████████████████████▌| 1.4MB 9.1MB/s eta 0:00:01\r\u001b[K     |███████████████████████████████▊| 1.4MB 9.1MB/s eta 0:00:01\r\u001b[K     |████████████████████████████████| 1.4MB 9.1MB/s eta 0:00:01\r\u001b[K     |████████████████████████████████| 1.4MB 9.1MB/s \n",
            "\u001b[?25hCollecting einops>=0.3\n",
            "  Downloading https://files.pythonhosted.org/packages/5d/a0/9935e030634bf60ecd572c775f64ace82ceddf2f504a5fd3902438f07090/einops-0.3.0-py2.py3-none-any.whl\n",
            "Collecting torch-optimizer\n",
            "\u001b[?25l  Downloading https://files.pythonhosted.org/packages/af/0f/bc49a0f714a1896b80f31db9ba82eebcb2bad9e0f5757184574f8ecfe2f1/torch_optimizer-0.1.0-py3-none-any.whl (72kB)\n",
            "\u001b[K     |████████████████████████████████| 81kB 8.5MB/s \n",
            "\u001b[?25hRequirement already satisfied, skipping upgrade: regex in /usr/local/lib/python3.7/dist-packages (from deep-daze) (2019.12.20)\n",
            "Collecting siren-pytorch>=0.0.8\n",
            "  Downloading https://files.pythonhosted.org/packages/3b/80/e023803feacfb9ea395c80693bb57f0a58a61699eda8afead5de92796bbb/siren_pytorch-0.0.9-py3-none-any.whl\n",
            "Requirement already satisfied, skipping upgrade: torch>=1.7.1 in /usr/local/lib/python3.7/dist-packages (from deep-daze) (1.8.0+cu101)\n",
            "Requirement already satisfied, skipping upgrade: tqdm in /usr/local/lib/python3.7/dist-packages (from deep-daze) (4.41.1)\n",
            "Collecting ftfy\n",
            "\u001b[?25l  Downloading https://files.pythonhosted.org/packages/04/06/e5c80e2e0f979628d47345efba51f7ba386fe95963b11c594209085f5a9b/ftfy-5.9.tar.gz (66kB)\n",
            "\u001b[K     |████████████████████████████████| 71kB 9.2MB/s \n",
            "\u001b[?25hRequirement already satisfied, skipping upgrade: torchvision>=0.8.2 in /usr/local/lib/python3.7/dist-packages (from deep-daze) (0.9.0+cu101)\n",
            "Collecting fire\n",
            "\u001b[?25l  Downloading https://files.pythonhosted.org/packages/11/07/a119a1aa04d37bc819940d95ed7e135a7dcca1c098123a3764a6dcace9e7/fire-0.4.0.tar.gz (87kB)\n",
            "\u001b[K     |████████████████████████████████| 92kB 10.6MB/s \n",
            "\u001b[?25hCollecting pytorch-ranger>=0.1.1\n",
            "  Downloading https://files.pythonhosted.org/packages/0d/70/12256257d861bbc3e176130d25be1de085ce7a9e60594064888a950f2154/pytorch_ranger-0.1.1-py3-none-any.whl\n",
            "Requirement already satisfied, skipping upgrade: typing-extensions in /usr/local/lib/python3.7/dist-packages (from torch>=1.7.1->deep-daze) (3.7.4.3)\n",
            "Requirement already satisfied, skipping upgrade: numpy in /usr/local/lib/python3.7/dist-packages (from torch>=1.7.1->deep-daze) (1.19.5)\n",
            "Requirement already satisfied, skipping upgrade: wcwidth in /usr/local/lib/python3.7/dist-packages (from ftfy->deep-daze) (0.2.5)\n",
            "Requirement already satisfied, skipping upgrade: pillow>=4.1.1 in /usr/local/lib/python3.7/dist-packages (from torchvision>=0.8.2->deep-daze) (7.0.0)\n",
            "Requirement already satisfied, skipping upgrade: six in /usr/local/lib/python3.7/dist-packages (from fire->deep-daze) (1.15.0)\n",
            "Requirement already satisfied, skipping upgrade: termcolor in /usr/local/lib/python3.7/dist-packages (from fire->deep-daze) (1.1.0)\n",
            "Building wheels for collected packages: ftfy, fire\n",
            "  Building wheel for ftfy (setup.py) ... \u001b[?25l\u001b[?25hdone\n",
            "  Created wheel for ftfy: filename=ftfy-5.9-cp37-none-any.whl size=46451 sha256=74488f207bcdfd3f7c489358f48b4cc03302c35a31544b2e517a3b2e4344234a\n",
            "  Stored in directory: /root/.cache/pip/wheels/5e/2e/f0/b07196e8c929114998f0316894a61c752b63bfa3fdd50d2fc3\n",
            "  Building wheel for fire (setup.py) ... \u001b[?25l\u001b[?25hdone\n",
            "  Created wheel for fire: filename=fire-0.4.0-py2.py3-none-any.whl size=115928 sha256=46dc8438df4ff2bb2b1880f5801985744d5a38040a757bd99a3f6c67e68cb26f\n",
            "  Stored in directory: /root/.cache/pip/wheels/af/19/30/1ea0cad502dcb4e66ed5a690279628c827aea38bbbab75d5ed\n",
            "Successfully built ftfy fire\n",
            "Installing collected packages: einops, pytorch-ranger, torch-optimizer, siren-pytorch, ftfy, fire, deep-daze\n",
            "Successfully installed deep-daze-0.7.2 einops-0.3.0 fire-0.4.0 ftfy-5.9 pytorch-ranger-0.1.1 siren-pytorch-0.0.9 torch-optimizer-0.1.0\n"
          ],
          "name": "stdout"
        }
      ]
    },
    {
      "cell_type": "code",
      "metadata": {
        "colab": {
          "base_uri": "https://localhost:8080/",
          "height": 1000
        },
        "id": "6IPQ_rdA2Sa7",
        "outputId": "2741717c-ba3b-45b6-c515-e62eca08e6aa"
      },
      "source": [
        "from tqdm import trange\n",
        "from IPython.display import Image, display\n",
        "\n",
        "from deep_daze import Imagine\n",
        "\n",
        "TEXT = 'an apple next to a fireplace' #@param {type:\"string\"}\n",
        "NUM_LAYERS = 32 #@param {type:\"number\"}\n",
        "SAVE_EVERY =  20#@param {type:\"number\"}\n",
        "IMAGE_WIDTH = 512 #@param {type:\"number\"}\n",
        "SAVE_PROGRESS = False #@param {type:\"boolean\"}\n",
        "LEARNING_RATE = 1e-5 #@param {type:\"number\"}\n",
        "ITERATIONS = 1050 #@param {type:\"number\"}\n",
        "\n",
        "model = Imagine(\n",
        "    text = TEXT,\n",
        "    num_layers = NUM_LAYERS,\n",
        "    save_every = SAVE_EVERY,\n",
        "    image_width = IMAGE_WIDTH,\n",
        "    lr = LEARNING_RATE,\n",
        "    iterations = ITERATIONS,\n",
        "    save_progress = SAVE_PROGRESS\n",
        ")\n",
        "\n",
        "for epoch in trange(20, desc = 'epochs'):\n",
        "    for i in trange(ITERATIONS, desc = 'iteration'):\n",
        "        model.train_step(epoch, i)\n",
        "\n",
        "        if i % model.save_every != 0:\n",
        "            continue\n",
        "\n",
        "        filename = TEXT.replace(' ', '_')\n",
        "        image = Image(f'./{filename}.png')\n",
        "        display(image)"
      ],
      "execution_count": null,
      "outputs": [
        {
          "output_type": "stream",
          "text": [
            "100%|███████████████████████████████████████| 354M/354M [00:05<00:00, 66.8MiB/s]\n",
            "epochs:   0%|          | 0/20 [00:00<?, ?it/s]\n",
            "\n",
            "epochs:   0%|          | 0/20 [00:01<?, ?it/s]\n",
            "iteration:   0%|          | 0/1050 [00:01<?, ?it/s]\u001b[A"
          ],
          "name": "stderr"
        },
        {
          "output_type": "stream",
          "text": [
            "image updated at \"./an_apple_next_to_a_fireplace.jpg\"\n"
          ],
          "name": "stdout"
        },
        {
          "output_type": "display_data",
          "data": {
            "image/png": "./an_apple_next_to_a_fireplace.png",
            "text/plain": [
              "<IPython.core.display.Image object>"
            ]
          },
          "metadata": {
            "tags": []
          }
        },
        {
          "output_type": "stream",
          "text": [
            "\n",
            "iteration:   0%|          | 1/1050 [00:01<31:33,  1.81s/it]\u001b[A\n",
            "iteration:   0%|          | 2/1050 [00:03<30:25,  1.74s/it]\u001b[A\n",
            "iteration:   0%|          | 3/1050 [00:05<29:39,  1.70s/it]\u001b[A\n",
            "iteration:   0%|          | 4/1050 [00:06<29:03,  1.67s/it]\u001b[A\n",
            "iteration:   0%|          | 5/1050 [00:08<28:49,  1.66s/it]\u001b[A\n",
            "iteration:   1%|          | 6/1050 [00:09<28:33,  1.64s/it]\u001b[A\n",
            "iteration:   1%|          | 7/1050 [00:11<28:24,  1.63s/it]\u001b[A\n",
            "iteration:   1%|          | 8/1050 [00:13<28:20,  1.63s/it]\u001b[A\n",
            "iteration:   1%|          | 9/1050 [00:14<28:14,  1.63s/it]\u001b[A\n",
            "iteration:   1%|          | 10/1050 [00:16<28:13,  1.63s/it]\u001b[A\n",
            "iteration:   1%|          | 11/1050 [00:17<28:09,  1.63s/it]\u001b[A\n",
            "iteration:   1%|          | 12/1050 [00:19<28:08,  1.63s/it]\u001b[A\n",
            "iteration:   1%|          | 13/1050 [00:21<28:07,  1.63s/it]\u001b[A\n",
            "iteration:   1%|▏         | 14/1050 [00:22<28:03,  1.63s/it]\u001b[A\n",
            "iteration:   1%|▏         | 15/1050 [00:24<28:00,  1.62s/it]\u001b[A\n",
            "iteration:   2%|▏         | 16/1050 [00:26<27:59,  1.62s/it]\u001b[A\n",
            "iteration:   2%|▏         | 17/1050 [00:27<27:56,  1.62s/it]\u001b[A\n",
            "iteration:   2%|▏         | 18/1050 [00:29<27:57,  1.63s/it]\u001b[A\n",
            "iteration:   2%|▏         | 19/1050 [00:30<27:50,  1.62s/it]\u001b[A\n",
            "\n",
            "epochs:   0%|          | 0/20 [00:34<?, ?it/s]\n",
            "iteration:   2%|▏         | 20/1050 [00:34<27:54,  1.63s/it]\u001b[A"
          ],
          "name": "stderr"
        },
        {
          "output_type": "stream",
          "text": [
            "image updated at \"./an_apple_next_to_a_fireplace.000001.jpg\"\n"
          ],
          "name": "stdout"
        },
        {
          "output_type": "display_data",
          "data": {
            "image/png": "./an_apple_next_to_a_fireplace.png",
            "text/plain": [
              "<IPython.core.display.Image object>"
            ]
          },
          "metadata": {
            "tags": []
          }
        },
        {
          "output_type": "stream",
          "text": [
            "\n",
            "iteration:   2%|▏         | 21/1050 [00:34<28:13,  1.65s/it]\u001b[A\n",
            "iteration:   2%|▏         | 22/1050 [00:35<28:12,  1.65s/it]\u001b[A\n",
            "iteration:   2%|▏         | 23/1050 [00:37<28:09,  1.64s/it]\u001b[A\n",
            "iteration:   2%|▏         | 24/1050 [00:39<28:01,  1.64s/it]\u001b[A\n",
            "iteration:   2%|▏         | 25/1050 [00:40<27:59,  1.64s/it]\u001b[A\n",
            "iteration:   2%|▏         | 26/1050 [00:42<27:55,  1.64s/it]\u001b[A\n",
            "iteration:   3%|▎         | 27/1050 [00:44<27:51,  1.63s/it]\u001b[A\n",
            "iteration:   3%|▎         | 28/1050 [00:45<27:50,  1.63s/it]\u001b[A\n",
            "iteration:   3%|▎         | 29/1050 [00:47<27:51,  1.64s/it]\u001b[A\n",
            "iteration:   3%|▎         | 30/1050 [00:48<27:49,  1.64s/it]\u001b[A\n",
            "iteration:   3%|▎         | 31/1050 [00:50<27:48,  1.64s/it]\u001b[A\n",
            "iteration:   3%|▎         | 32/1050 [00:52<27:48,  1.64s/it]\u001b[A\n",
            "iteration:   3%|▎         | 33/1050 [00:53<27:48,  1.64s/it]\u001b[A\n",
            "iteration:   3%|▎         | 34/1050 [00:55<27:48,  1.64s/it]\u001b[A\n",
            "iteration:   3%|▎         | 35/1050 [00:57<27:49,  1.65s/it]\u001b[A\n",
            "iteration:   3%|▎         | 36/1050 [00:58<27:48,  1.65s/it]\u001b[A\n",
            "iteration:   4%|▎         | 37/1050 [01:00<27:48,  1.65s/it]\u001b[A\n",
            "iteration:   4%|▎         | 38/1050 [01:02<27:50,  1.65s/it]\u001b[A\n",
            "iteration:   4%|▎         | 39/1050 [01:03<27:49,  1.65s/it]\u001b[A\n",
            "\n",
            "epochs:   0%|          | 0/20 [01:07<?, ?it/s]\n",
            "iteration:   4%|▍         | 40/1050 [01:07<27:47,  1.65s/it]\u001b[A"
          ],
          "name": "stderr"
        },
        {
          "output_type": "stream",
          "text": [
            "image updated at \"./an_apple_next_to_a_fireplace.000002.jpg\"\n"
          ],
          "name": "stdout"
        },
        {
          "output_type": "display_data",
          "data": {
            "image/png": "./an_apple_next_to_a_fireplace.png",
            "text/plain": [
              "<IPython.core.display.Image object>"
            ]
          },
          "metadata": {
            "tags": []
          }
        },
        {
          "output_type": "stream",
          "text": [
            "\n",
            "iteration:   4%|▍         | 41/1050 [01:07<28:02,  1.67s/it]\u001b[A\n",
            "iteration:   4%|▍         | 42/1050 [01:08<27:56,  1.66s/it]\u001b[A\n",
            "iteration:   4%|▍         | 43/1050 [01:10<27:50,  1.66s/it]\u001b[A\n",
            "iteration:   4%|▍         | 44/1050 [01:12<27:44,  1.65s/it]\u001b[A\n",
            "iteration:   4%|▍         | 45/1050 [01:13<27:43,  1.66s/it]\u001b[A\n",
            "iteration:   4%|▍         | 46/1050 [01:15<27:39,  1.65s/it]\u001b[A\n",
            "iteration:   4%|▍         | 47/1050 [01:17<27:41,  1.66s/it]\u001b[A\n",
            "iteration:   5%|▍         | 48/1050 [01:18<27:42,  1.66s/it]\u001b[A\n",
            "iteration:   5%|▍         | 49/1050 [01:20<27:41,  1.66s/it]\u001b[A\n",
            "iteration:   5%|▍         | 50/1050 [01:22<27:40,  1.66s/it]\u001b[A\n",
            "iteration:   5%|▍         | 51/1050 [01:23<27:44,  1.67s/it]\u001b[A\n",
            "iteration:   5%|▍         | 52/1050 [01:25<27:41,  1.66s/it]\u001b[A\n",
            "iteration:   5%|▌         | 53/1050 [01:27<27:39,  1.66s/it]\u001b[A\n",
            "iteration:   5%|▌         | 54/1050 [01:28<27:36,  1.66s/it]\u001b[A\n",
            "iteration:   5%|▌         | 55/1050 [01:30<27:34,  1.66s/it]\u001b[A\n",
            "iteration:   5%|▌         | 56/1050 [01:32<27:34,  1.66s/it]\u001b[A\n",
            "iteration:   5%|▌         | 57/1050 [01:33<27:35,  1.67s/it]\u001b[A\n",
            "iteration:   6%|▌         | 58/1050 [01:35<27:34,  1.67s/it]\u001b[A\n",
            "iteration:   6%|▌         | 59/1050 [01:37<27:35,  1.67s/it]\u001b[A\n",
            "\n",
            "epochs:   0%|          | 0/20 [01:40<?, ?it/s]\n",
            "iteration:   6%|▌         | 60/1050 [01:40<27:31,  1.67s/it]\u001b[A"
          ],
          "name": "stderr"
        },
        {
          "output_type": "stream",
          "text": [
            "image updated at \"./an_apple_next_to_a_fireplace.000003.jpg\"\n"
          ],
          "name": "stdout"
        },
        {
          "output_type": "display_data",
          "data": {
            "image/png": "./an_apple_next_to_a_fireplace.png",
            "text/plain": [
              "<IPython.core.display.Image object>"
            ]
          },
          "metadata": {
            "tags": []
          }
        },
        {
          "output_type": "stream",
          "text": [
            "\n",
            "iteration:   6%|▌         | 61/1050 [01:40<27:47,  1.69s/it]\u001b[A\n",
            "iteration:   6%|▌         | 62/1050 [01:42<27:40,  1.68s/it]\u001b[A\n",
            "iteration:   6%|▌         | 63/1050 [01:43<27:41,  1.68s/it]\u001b[A\n",
            "iteration:   6%|▌         | 64/1050 [01:45<27:37,  1.68s/it]\u001b[A\n",
            "iteration:   6%|▌         | 65/1050 [01:47<27:36,  1.68s/it]\u001b[A\n",
            "iteration:   6%|▋         | 66/1050 [01:48<27:32,  1.68s/it]\u001b[A\n",
            "iteration:   6%|▋         | 67/1050 [01:50<27:33,  1.68s/it]\u001b[A\n",
            "iteration:   6%|▋         | 68/1050 [01:52<27:31,  1.68s/it]\u001b[A\n",
            "iteration:   7%|▋         | 69/1050 [01:53<27:31,  1.68s/it]\u001b[A\n",
            "iteration:   7%|▋         | 70/1050 [01:55<27:30,  1.68s/it]\u001b[A\n",
            "iteration:   7%|▋         | 71/1050 [01:57<27:28,  1.68s/it]\u001b[A\n",
            "iteration:   7%|▋         | 72/1050 [01:58<27:25,  1.68s/it]\u001b[A\n",
            "iteration:   7%|▋         | 73/1050 [02:00<27:29,  1.69s/it]\u001b[A\n",
            "iteration:   7%|▋         | 74/1050 [02:02<27:28,  1.69s/it]\u001b[A\n",
            "iteration:   7%|▋         | 75/1050 [02:04<27:30,  1.69s/it]\u001b[A\n",
            "iteration:   7%|▋         | 76/1050 [02:05<27:29,  1.69s/it]\u001b[A\n",
            "iteration:   7%|▋         | 77/1050 [02:07<27:31,  1.70s/it]\u001b[A\n",
            "iteration:   7%|▋         | 78/1050 [02:09<27:25,  1.69s/it]\u001b[A\n",
            "iteration:   8%|▊         | 79/1050 [02:10<27:24,  1.69s/it]\u001b[A\n",
            "\n",
            "epochs:   0%|          | 0/20 [02:14<?, ?it/s]\n",
            "iteration:   8%|▊         | 80/1050 [02:14<27:22,  1.69s/it]\u001b[A"
          ],
          "name": "stderr"
        },
        {
          "output_type": "stream",
          "text": [
            "image updated at \"./an_apple_next_to_a_fireplace.000004.jpg\"\n"
          ],
          "name": "stdout"
        },
        {
          "output_type": "display_data",
          "data": {
            "image/png": "./an_apple_next_to_a_fireplace.png",
            "text/plain": [
              "<IPython.core.display.Image object>"
            ]
          },
          "metadata": {
            "tags": []
          }
        },
        {
          "output_type": "stream",
          "text": [
            "\n",
            "iteration:   8%|▊         | 81/1050 [02:14<27:39,  1.71s/it]\u001b[A\n",
            "iteration:   8%|▊         | 82/1050 [02:15<27:33,  1.71s/it]\u001b[A\n",
            "iteration:   8%|▊         | 83/1050 [02:17<27:29,  1.71s/it]\u001b[A\n",
            "iteration:   8%|▊         | 84/1050 [02:19<27:28,  1.71s/it]\u001b[A\n",
            "iteration:   8%|▊         | 85/1050 [02:21<27:23,  1.70s/it]\u001b[A\n",
            "iteration:   8%|▊         | 86/1050 [02:22<27:23,  1.71s/it]\u001b[A\n",
            "iteration:   8%|▊         | 87/1050 [02:24<27:27,  1.71s/it]\u001b[A\n",
            "iteration:   8%|▊         | 88/1050 [02:26<27:23,  1.71s/it]\u001b[A\n",
            "iteration:   8%|▊         | 89/1050 [02:27<27:27,  1.71s/it]\u001b[A\n",
            "iteration:   9%|▊         | 90/1050 [02:29<27:26,  1.71s/it]\u001b[A\n",
            "iteration:   9%|▊         | 91/1050 [02:31<27:19,  1.71s/it]\u001b[A\n",
            "iteration:   9%|▉         | 92/1050 [02:33<27:22,  1.71s/it]\u001b[A\n",
            "iteration:   9%|▉         | 93/1050 [02:34<27:22,  1.72s/it]\u001b[A\n",
            "iteration:   9%|▉         | 94/1050 [02:36<27:20,  1.72s/it]\u001b[A\n",
            "iteration:   9%|▉         | 95/1050 [02:38<27:19,  1.72s/it]\u001b[A\n",
            "iteration:   9%|▉         | 96/1050 [02:39<27:15,  1.71s/it]\u001b[A\n",
            "iteration:   9%|▉         | 97/1050 [02:41<27:17,  1.72s/it]\u001b[A\n",
            "iteration:   9%|▉         | 98/1050 [02:43<27:19,  1.72s/it]\u001b[A\n",
            "iteration:   9%|▉         | 99/1050 [02:45<27:22,  1.73s/it]\u001b[A\n",
            "\n",
            "epochs:   0%|          | 0/20 [02:48<?, ?it/s]\n",
            "iteration:  10%|▉         | 100/1050 [02:48<27:17,  1.72s/it]\u001b[A"
          ],
          "name": "stderr"
        },
        {
          "output_type": "stream",
          "text": [
            "image updated at \"./an_apple_next_to_a_fireplace.000005.jpg\"\n"
          ],
          "name": "stdout"
        },
        {
          "output_type": "display_data",
          "data": {
            "image/png": "./an_apple_next_to_a_fireplace.png",
            "text/plain": [
              "<IPython.core.display.Image object>"
            ]
          },
          "metadata": {
            "tags": []
          }
        },
        {
          "output_type": "stream",
          "text": [
            "\n",
            "iteration:  10%|▉         | 101/1050 [02:48<27:36,  1.75s/it]\u001b[A\n",
            "iteration:  10%|▉         | 102/1050 [02:50<27:27,  1.74s/it]\u001b[A\n",
            "iteration:  10%|▉         | 103/1050 [02:52<27:29,  1.74s/it]\u001b[A\n",
            "iteration:  10%|▉         | 104/1050 [02:53<27:26,  1.74s/it]\u001b[A\n",
            "iteration:  10%|█         | 105/1050 [02:55<27:17,  1.73s/it]\u001b[A\n",
            "iteration:  10%|█         | 106/1050 [02:57<27:15,  1.73s/it]\u001b[A\n",
            "iteration:  10%|█         | 107/1050 [02:59<27:12,  1.73s/it]\u001b[A\n",
            "iteration:  10%|█         | 108/1050 [03:00<27:06,  1.73s/it]\u001b[A\n",
            "iteration:  10%|█         | 109/1050 [03:02<27:12,  1.73s/it]\u001b[A\n",
            "iteration:  10%|█         | 110/1050 [03:04<27:10,  1.73s/it]\u001b[A\n",
            "iteration:  11%|█         | 111/1050 [03:06<27:11,  1.74s/it]\u001b[A\n",
            "iteration:  11%|█         | 112/1050 [03:07<27:04,  1.73s/it]\u001b[A\n",
            "iteration:  11%|█         | 113/1050 [03:09<27:02,  1.73s/it]\u001b[A\n",
            "iteration:  11%|█         | 114/1050 [03:11<27:04,  1.74s/it]\u001b[A\n",
            "iteration:  11%|█         | 115/1050 [03:12<27:04,  1.74s/it]\u001b[A\n",
            "iteration:  11%|█         | 116/1050 [03:14<27:04,  1.74s/it]\u001b[A\n",
            "iteration:  11%|█         | 117/1050 [03:16<26:57,  1.73s/it]\u001b[A\n",
            "iteration:  11%|█         | 118/1050 [03:18<26:56,  1.73s/it]\u001b[A\n",
            "iteration:  11%|█▏        | 119/1050 [03:19<27:01,  1.74s/it]\u001b[A\n",
            "\n",
            "epochs:   0%|          | 0/20 [03:23<?, ?it/s]\n",
            "iteration:  11%|█▏        | 120/1050 [03:23<27:01,  1.74s/it]\u001b[A"
          ],
          "name": "stderr"
        },
        {
          "output_type": "stream",
          "text": [
            "image updated at \"./an_apple_next_to_a_fireplace.000006.jpg\"\n"
          ],
          "name": "stdout"
        },
        {
          "output_type": "display_data",
          "data": {
            "image/png": "./an_apple_next_to_a_fireplace.png",
            "text/plain": [
              "<IPython.core.display.Image object>"
            ]
          },
          "metadata": {
            "tags": []
          }
        },
        {
          "output_type": "stream",
          "text": [
            "\n",
            "iteration:  12%|█▏        | 121/1050 [03:23<27:17,  1.76s/it]\u001b[A\n",
            "iteration:  12%|█▏        | 122/1050 [03:25<27:06,  1.75s/it]\u001b[A\n",
            "iteration:  12%|█▏        | 123/1050 [03:26<27:07,  1.76s/it]\u001b[A\n",
            "iteration:  12%|█▏        | 124/1050 [03:28<27:03,  1.75s/it]\u001b[A\n",
            "iteration:  12%|█▏        | 125/1050 [03:30<26:57,  1.75s/it]\u001b[A\n",
            "iteration:  12%|█▏        | 126/1050 [03:32<26:52,  1.74s/it]\u001b[A\n",
            "iteration:  12%|█▏        | 127/1050 [03:33<26:50,  1.74s/it]\u001b[A\n",
            "iteration:  12%|█▏        | 128/1050 [03:35<26:47,  1.74s/it]\u001b[A\n",
            "iteration:  12%|█▏        | 129/1050 [03:37<26:48,  1.75s/it]\u001b[A\n",
            "iteration:  12%|█▏        | 130/1050 [03:39<26:48,  1.75s/it]\u001b[A\n",
            "iteration:  12%|█▏        | 131/1050 [03:40<26:46,  1.75s/it]\u001b[A\n",
            "iteration:  13%|█▎        | 132/1050 [03:42<26:45,  1.75s/it]\u001b[A\n",
            "iteration:  13%|█▎        | 133/1050 [03:44<26:43,  1.75s/it]\u001b[A\n",
            "iteration:  13%|█▎        | 134/1050 [03:46<26:39,  1.75s/it]\u001b[A\n",
            "iteration:  13%|█▎        | 135/1050 [03:47<26:42,  1.75s/it]\u001b[A\n",
            "iteration:  13%|█▎        | 136/1050 [03:49<26:35,  1.75s/it]\u001b[A\n",
            "iteration:  13%|█▎        | 137/1050 [03:51<26:38,  1.75s/it]\u001b[A\n",
            "iteration:  13%|█▎        | 138/1050 [03:53<26:33,  1.75s/it]\u001b[A\n",
            "iteration:  13%|█▎        | 139/1050 [03:54<26:30,  1.75s/it]\u001b[A\n",
            "\n",
            "epochs:   0%|          | 0/20 [03:58<?, ?it/s]\n",
            "iteration:  13%|█▎        | 140/1050 [03:58<26:37,  1.76s/it]\u001b[A"
          ],
          "name": "stderr"
        },
        {
          "output_type": "stream",
          "text": [
            "image updated at \"./an_apple_next_to_a_fireplace.000007.jpg\"\n"
          ],
          "name": "stdout"
        },
        {
          "output_type": "display_data",
          "data": {
            "image/png": "./an_apple_next_to_a_fireplace.png",
            "text/plain": [
              "<IPython.core.display.Image object>"
            ]
          },
          "metadata": {
            "tags": []
          }
        },
        {
          "output_type": "stream",
          "text": [
            "\n",
            "iteration:  13%|█▎        | 141/1050 [03:58<26:52,  1.77s/it]\u001b[A\n",
            "iteration:  14%|█▎        | 142/1050 [04:00<26:51,  1.77s/it]\u001b[A\n",
            "iteration:  14%|█▎        | 143/1050 [04:02<26:55,  1.78s/it]\u001b[A\n",
            "iteration:  14%|█▎        | 144/1050 [04:03<26:49,  1.78s/it]\u001b[A\n",
            "iteration:  14%|█▍        | 145/1050 [04:05<26:43,  1.77s/it]\u001b[A\n",
            "iteration:  14%|█▍        | 146/1050 [04:07<26:42,  1.77s/it]\u001b[A\n",
            "iteration:  14%|█▍        | 147/1050 [04:09<26:40,  1.77s/it]\u001b[A\n",
            "iteration:  14%|█▍        | 148/1050 [04:10<26:40,  1.77s/it]\u001b[A\n",
            "iteration:  14%|█▍        | 149/1050 [04:12<26:39,  1.78s/it]\u001b[A\n",
            "iteration:  14%|█▍        | 150/1050 [04:14<26:46,  1.78s/it]\u001b[A\n",
            "iteration:  14%|█▍        | 151/1050 [04:16<26:39,  1.78s/it]\u001b[A\n",
            "iteration:  14%|█▍        | 152/1050 [04:18<26:31,  1.77s/it]\u001b[A\n",
            "iteration:  15%|█▍        | 153/1050 [04:19<26:29,  1.77s/it]\u001b[A\n",
            "iteration:  15%|█▍        | 154/1050 [04:21<26:34,  1.78s/it]\u001b[A\n",
            "iteration:  15%|█▍        | 155/1050 [04:23<26:29,  1.78s/it]\u001b[A\n",
            "iteration:  15%|█▍        | 156/1050 [04:25<26:30,  1.78s/it]\u001b[A\n",
            "iteration:  15%|█▍        | 157/1050 [04:26<26:36,  1.79s/it]\u001b[A\n",
            "iteration:  15%|█▌        | 158/1050 [04:28<26:28,  1.78s/it]\u001b[A\n",
            "iteration:  15%|█▌        | 159/1050 [04:30<26:31,  1.79s/it]\u001b[A\n",
            "\n",
            "epochs:   0%|          | 0/20 [04:34<?, ?it/s]\n",
            "iteration:  15%|█▌        | 160/1050 [04:34<26:33,  1.79s/it]\u001b[A"
          ],
          "name": "stderr"
        },
        {
          "output_type": "stream",
          "text": [
            "image updated at \"./an_apple_next_to_a_fireplace.000008.jpg\"\n"
          ],
          "name": "stdout"
        },
        {
          "output_type": "display_data",
          "data": {
            "image/png": "./an_apple_next_to_a_fireplace.png",
            "text/plain": [
              "<IPython.core.display.Image object>"
            ]
          },
          "metadata": {
            "tags": []
          }
        },
        {
          "output_type": "stream",
          "text": [
            "\n",
            "iteration:  15%|█▌        | 161/1050 [04:34<26:48,  1.81s/it]\u001b[A\n",
            "iteration:  15%|█▌        | 162/1050 [04:35<26:38,  1.80s/it]\u001b[A\n",
            "iteration:  16%|█▌        | 163/1050 [04:37<26:30,  1.79s/it]\u001b[A\n",
            "iteration:  16%|█▌        | 164/1050 [04:39<26:38,  1.80s/it]\u001b[A\n",
            "iteration:  16%|█▌        | 165/1050 [04:41<26:34,  1.80s/it]\u001b[A\n",
            "iteration:  16%|█▌        | 166/1050 [04:43<26:32,  1.80s/it]\u001b[A\n",
            "iteration:  16%|█▌        | 167/1050 [04:44<26:28,  1.80s/it]\u001b[A\n",
            "iteration:  16%|█▌        | 168/1050 [04:46<26:18,  1.79s/it]\u001b[A\n",
            "iteration:  16%|█▌        | 169/1050 [04:48<26:17,  1.79s/it]\u001b[A\n",
            "iteration:  16%|█▌        | 170/1050 [04:50<26:15,  1.79s/it]\u001b[A\n",
            "iteration:  16%|█▋        | 171/1050 [04:52<26:17,  1.80s/it]\u001b[A\n",
            "iteration:  16%|█▋        | 172/1050 [04:53<26:15,  1.79s/it]\u001b[A\n",
            "iteration:  16%|█▋        | 173/1050 [04:55<26:15,  1.80s/it]\u001b[A\n",
            "iteration:  17%|█▋        | 174/1050 [04:57<26:16,  1.80s/it]\u001b[A\n",
            "iteration:  17%|█▋        | 175/1050 [04:59<26:11,  1.80s/it]\u001b[A\n",
            "iteration:  17%|█▋        | 176/1050 [05:01<26:09,  1.80s/it]\u001b[A\n",
            "iteration:  17%|█▋        | 177/1050 [05:02<26:03,  1.79s/it]\u001b[A\n",
            "iteration:  17%|█▋        | 178/1050 [05:04<26:03,  1.79s/it]\u001b[A\n",
            "iteration:  17%|█▋        | 179/1050 [05:06<25:56,  1.79s/it]\u001b[A\n",
            "\n",
            "epochs:   0%|          | 0/20 [05:10<?, ?it/s]\n",
            "iteration:  17%|█▋        | 180/1050 [05:10<25:54,  1.79s/it]\u001b[A"
          ],
          "name": "stderr"
        },
        {
          "output_type": "stream",
          "text": [
            "image updated at \"./an_apple_next_to_a_fireplace.000009.jpg\"\n"
          ],
          "name": "stdout"
        },
        {
          "output_type": "display_data",
          "data": {
            "image/png": "./an_apple_next_to_a_fireplace.png",
            "text/plain": [
              "<IPython.core.display.Image object>"
            ]
          },
          "metadata": {
            "tags": []
          }
        },
        {
          "output_type": "stream",
          "text": [
            "\n",
            "iteration:  17%|█▋        | 181/1050 [05:10<26:13,  1.81s/it]\u001b[A\n",
            "iteration:  17%|█▋        | 182/1050 [05:11<26:08,  1.81s/it]\u001b[A\n",
            "iteration:  17%|█▋        | 183/1050 [05:13<26:05,  1.81s/it]\u001b[A\n",
            "iteration:  18%|█▊        | 184/1050 [05:15<26:01,  1.80s/it]\u001b[A\n",
            "iteration:  18%|█▊        | 185/1050 [05:17<25:55,  1.80s/it]\u001b[A\n",
            "iteration:  18%|█▊        | 186/1050 [05:19<25:49,  1.79s/it]\u001b[A\n",
            "iteration:  18%|█▊        | 187/1050 [05:20<25:44,  1.79s/it]\u001b[A\n",
            "iteration:  18%|█▊        | 188/1050 [05:22<25:45,  1.79s/it]\u001b[A\n",
            "iteration:  18%|█▊        | 189/1050 [05:24<25:46,  1.80s/it]\u001b[A\n",
            "iteration:  18%|█▊        | 190/1050 [05:26<25:42,  1.79s/it]\u001b[A\n",
            "iteration:  18%|█▊        | 191/1050 [05:27<25:29,  1.78s/it]\u001b[A\n",
            "iteration:  18%|█▊        | 192/1050 [05:29<25:26,  1.78s/it]\u001b[A\n",
            "iteration:  18%|█▊        | 193/1050 [05:31<25:27,  1.78s/it]\u001b[A\n",
            "iteration:  18%|█▊        | 194/1050 [05:33<25:28,  1.79s/it]\u001b[A\n",
            "iteration:  19%|█▊        | 195/1050 [05:35<25:20,  1.78s/it]\u001b[A\n",
            "iteration:  19%|█▊        | 196/1050 [05:36<25:15,  1.77s/it]\u001b[A\n",
            "iteration:  19%|█▉        | 197/1050 [05:38<25:15,  1.78s/it]\u001b[A\n",
            "iteration:  19%|█▉        | 198/1050 [05:40<25:09,  1.77s/it]\u001b[A\n",
            "iteration:  19%|█▉        | 199/1050 [05:42<25:14,  1.78s/it]\u001b[A\n",
            "\n",
            "epochs:   0%|          | 0/20 [05:45<?, ?it/s]\n",
            "iteration:  19%|█▉        | 200/1050 [05:45<25:17,  1.79s/it]\u001b[A"
          ],
          "name": "stderr"
        },
        {
          "output_type": "stream",
          "text": [
            "image updated at \"./an_apple_next_to_a_fireplace.000010.jpg\"\n"
          ],
          "name": "stdout"
        },
        {
          "output_type": "display_data",
          "data": {
            "image/png": "./an_apple_next_to_a_fireplace.png",
            "text/plain": [
              "<IPython.core.display.Image object>"
            ]
          },
          "metadata": {
            "tags": []
          }
        },
        {
          "output_type": "stream",
          "text": [
            "\n",
            "iteration:  19%|█▉        | 201/1050 [05:45<25:28,  1.80s/it]\u001b[A\n",
            "iteration:  19%|█▉        | 202/1050 [05:47<25:26,  1.80s/it]\u001b[A\n",
            "iteration:  19%|█▉        | 203/1050 [05:49<25:27,  1.80s/it]\u001b[A\n",
            "iteration:  19%|█▉        | 204/1050 [05:51<25:27,  1.80s/it]\u001b[A\n",
            "iteration:  20%|█▉        | 205/1050 [05:53<25:23,  1.80s/it]\u001b[A\n",
            "iteration:  20%|█▉        | 206/1050 [05:54<25:14,  1.79s/it]\u001b[A\n",
            "iteration:  20%|█▉        | 207/1050 [05:56<25:14,  1.80s/it]\u001b[A\n",
            "iteration:  20%|█▉        | 208/1050 [05:58<25:05,  1.79s/it]\u001b[A\n",
            "iteration:  20%|█▉        | 209/1050 [06:00<25:00,  1.78s/it]\u001b[A\n",
            "iteration:  20%|██        | 210/1050 [06:01<24:54,  1.78s/it]\u001b[A\n",
            "iteration:  20%|██        | 211/1050 [06:03<24:48,  1.77s/it]\u001b[A\n",
            "iteration:  20%|██        | 212/1050 [06:05<24:54,  1.78s/it]\u001b[A\n",
            "iteration:  20%|██        | 213/1050 [06:07<24:52,  1.78s/it]\u001b[A\n",
            "iteration:  20%|██        | 214/1050 [06:09<24:55,  1.79s/it]\u001b[A\n",
            "iteration:  20%|██        | 215/1050 [06:10<24:48,  1.78s/it]\u001b[A\n",
            "iteration:  21%|██        | 216/1050 [06:12<24:47,  1.78s/it]\u001b[A\n",
            "iteration:  21%|██        | 217/1050 [06:14<24:47,  1.79s/it]\u001b[A\n",
            "iteration:  21%|██        | 218/1050 [06:16<24:52,  1.79s/it]\u001b[A\n",
            "iteration:  21%|██        | 219/1050 [06:18<24:51,  1.79s/it]\u001b[A\n",
            "\n",
            "epochs:   0%|          | 0/20 [06:21<?, ?it/s]\n",
            "iteration:  21%|██        | 220/1050 [06:21<24:50,  1.80s/it]\u001b[A"
          ],
          "name": "stderr"
        },
        {
          "output_type": "stream",
          "text": [
            "image updated at \"./an_apple_next_to_a_fireplace.000011.jpg\"\n"
          ],
          "name": "stdout"
        },
        {
          "output_type": "display_data",
          "data": {
            "image/png": "./an_apple_next_to_a_fireplace.png",
            "text/plain": [
              "<IPython.core.display.Image object>"
            ]
          },
          "metadata": {
            "tags": []
          }
        },
        {
          "output_type": "stream",
          "text": [
            "\n",
            "iteration:  21%|██        | 221/1050 [06:21<25:03,  1.81s/it]\u001b[A\n",
            "iteration:  21%|██        | 222/1050 [06:23<24:50,  1.80s/it]\u001b[A\n",
            "iteration:  21%|██        | 223/1050 [06:25<24:48,  1.80s/it]\u001b[A\n",
            "iteration:  21%|██▏       | 224/1050 [06:27<24:45,  1.80s/it]\u001b[A\n",
            "iteration:  21%|██▏       | 225/1050 [06:28<24:36,  1.79s/it]\u001b[A\n",
            "iteration:  22%|██▏       | 226/1050 [06:30<24:29,  1.78s/it]\u001b[A\n",
            "iteration:  22%|██▏       | 227/1050 [06:32<24:35,  1.79s/it]\u001b[A\n",
            "iteration:  22%|██▏       | 228/1050 [06:34<24:31,  1.79s/it]\u001b[A\n",
            "iteration:  22%|██▏       | 229/1050 [06:36<24:33,  1.80s/it]\u001b[A\n",
            "iteration:  22%|██▏       | 230/1050 [06:37<24:32,  1.80s/it]\u001b[A\n",
            "iteration:  22%|██▏       | 231/1050 [06:39<24:29,  1.79s/it]\u001b[A\n",
            "iteration:  22%|██▏       | 232/1050 [06:41<24:27,  1.79s/it]\u001b[A\n",
            "iteration:  22%|██▏       | 233/1050 [06:43<24:22,  1.79s/it]\u001b[A\n",
            "iteration:  22%|██▏       | 234/1050 [06:44<24:21,  1.79s/it]\u001b[A\n",
            "iteration:  22%|██▏       | 235/1050 [06:46<24:18,  1.79s/it]\u001b[A\n",
            "iteration:  22%|██▏       | 236/1050 [06:48<24:19,  1.79s/it]\u001b[A\n",
            "iteration:  23%|██▎       | 237/1050 [06:50<24:19,  1.79s/it]\u001b[A\n",
            "iteration:  23%|██▎       | 238/1050 [06:52<24:19,  1.80s/it]\u001b[A\n",
            "iteration:  23%|██▎       | 239/1050 [06:53<24:20,  1.80s/it]\u001b[A\n",
            "\n",
            "epochs:   0%|          | 0/20 [06:57<?, ?it/s]\n",
            "iteration:  23%|██▎       | 240/1050 [06:57<24:14,  1.80s/it]\u001b[A"
          ],
          "name": "stderr"
        },
        {
          "output_type": "stream",
          "text": [
            "image updated at \"./an_apple_next_to_a_fireplace.000012.jpg\"\n"
          ],
          "name": "stdout"
        },
        {
          "output_type": "display_data",
          "data": {
            "image/png": "./an_apple_next_to_a_fireplace.png",
            "text/plain": [
              "<IPython.core.display.Image object>"
            ]
          },
          "metadata": {
            "tags": []
          }
        },
        {
          "output_type": "stream",
          "text": [
            "\n",
            "iteration:  23%|██▎       | 241/1050 [06:57<24:20,  1.81s/it]\u001b[A\n",
            "iteration:  23%|██▎       | 242/1050 [06:59<24:14,  1.80s/it]\u001b[A\n",
            "iteration:  23%|██▎       | 243/1050 [07:01<24:17,  1.81s/it]\u001b[A\n",
            "iteration:  23%|██▎       | 244/1050 [07:02<24:15,  1.81s/it]\u001b[A\n",
            "iteration:  23%|██▎       | 245/1050 [07:04<24:08,  1.80s/it]\u001b[A\n",
            "iteration:  23%|██▎       | 246/1050 [07:06<24:06,  1.80s/it]\u001b[A\n",
            "iteration:  24%|██▎       | 247/1050 [07:08<24:08,  1.80s/it]\u001b[A\n",
            "iteration:  24%|██▎       | 248/1050 [07:10<24:06,  1.80s/it]\u001b[A\n",
            "iteration:  24%|██▎       | 249/1050 [07:12<24:06,  1.81s/it]\u001b[A\n",
            "iteration:  24%|██▍       | 250/1050 [07:13<23:58,  1.80s/it]\u001b[A\n",
            "iteration:  24%|██▍       | 251/1050 [07:15<24:00,  1.80s/it]\u001b[A\n",
            "iteration:  24%|██▍       | 252/1050 [07:17<23:57,  1.80s/it]\u001b[A\n",
            "iteration:  24%|██▍       | 253/1050 [07:19<23:55,  1.80s/it]\u001b[A\n",
            "iteration:  24%|██▍       | 254/1050 [07:20<23:50,  1.80s/it]\u001b[A\n",
            "iteration:  24%|██▍       | 255/1050 [07:22<23:50,  1.80s/it]\u001b[A\n",
            "iteration:  24%|██▍       | 256/1050 [07:24<23:48,  1.80s/it]\u001b[A\n",
            "iteration:  24%|██▍       | 257/1050 [07:26<23:51,  1.81s/it]\u001b[A\n",
            "iteration:  25%|██▍       | 258/1050 [07:28<23:46,  1.80s/it]\u001b[A\n",
            "iteration:  25%|██▍       | 259/1050 [07:29<23:38,  1.79s/it]\u001b[A\n",
            "\n",
            "epochs:   0%|          | 0/20 [07:33<?, ?it/s]\n",
            "iteration:  25%|██▍       | 260/1050 [07:33<23:44,  1.80s/it]\u001b[A"
          ],
          "name": "stderr"
        },
        {
          "output_type": "stream",
          "text": [
            "image updated at \"./an_apple_next_to_a_fireplace.000013.jpg\"\n"
          ],
          "name": "stdout"
        },
        {
          "output_type": "display_data",
          "data": {
            "image/png": "./an_apple_next_to_a_fireplace.png",
            "text/plain": [
              "<IPython.core.display.Image object>"
            ]
          },
          "metadata": {
            "tags": []
          }
        },
        {
          "output_type": "stream",
          "text": [
            "\n",
            "iteration:  25%|██▍       | 261/1050 [07:33<23:57,  1.82s/it]\u001b[A\n",
            "iteration:  25%|██▍       | 262/1050 [07:35<23:52,  1.82s/it]\u001b[A\n",
            "iteration:  25%|██▌       | 263/1050 [07:37<23:45,  1.81s/it]\u001b[A\n",
            "iteration:  25%|██▌       | 264/1050 [07:39<23:37,  1.80s/it]\u001b[A\n",
            "iteration:  25%|██▌       | 265/1050 [07:40<23:33,  1.80s/it]\u001b[A\n",
            "iteration:  25%|██▌       | 266/1050 [07:42<23:32,  1.80s/it]\u001b[A\n",
            "iteration:  25%|██▌       | 267/1050 [07:44<23:30,  1.80s/it]\u001b[A\n",
            "iteration:  26%|██▌       | 268/1050 [07:46<23:32,  1.81s/it]\u001b[A\n",
            "iteration:  26%|██▌       | 269/1050 [07:48<23:22,  1.80s/it]\u001b[A\n",
            "iteration:  26%|██▌       | 270/1050 [07:49<23:09,  1.78s/it]\u001b[A\n",
            "iteration:  26%|██▌       | 271/1050 [07:51<23:13,  1.79s/it]\u001b[A\n",
            "iteration:  26%|██▌       | 272/1050 [07:53<23:11,  1.79s/it]\u001b[A\n",
            "iteration:  26%|██▌       | 273/1050 [07:55<23:01,  1.78s/it]\u001b[A\n",
            "iteration:  26%|██▌       | 274/1050 [07:56<22:59,  1.78s/it]\u001b[A\n",
            "iteration:  26%|██▌       | 275/1050 [07:58<23:06,  1.79s/it]\u001b[A\n",
            "iteration:  26%|██▋       | 276/1050 [08:00<23:02,  1.79s/it]\u001b[A\n",
            "iteration:  26%|██▋       | 277/1050 [08:02<22:59,  1.78s/it]\u001b[A\n",
            "iteration:  26%|██▋       | 278/1050 [08:04<23:00,  1.79s/it]\u001b[A\n",
            "iteration:  27%|██▋       | 279/1050 [08:05<22:57,  1.79s/it]\u001b[A\n",
            "\n",
            "epochs:   0%|          | 0/20 [08:09<?, ?it/s]\n",
            "iteration:  27%|██▋       | 280/1050 [08:09<22:58,  1.79s/it]\u001b[A"
          ],
          "name": "stderr"
        },
        {
          "output_type": "stream",
          "text": [
            "image updated at \"./an_apple_next_to_a_fireplace.000014.jpg\"\n"
          ],
          "name": "stdout"
        },
        {
          "output_type": "display_data",
          "data": {
            "image/png": "./an_apple_next_to_a_fireplace.png",
            "text/plain": [
              "<IPython.core.display.Image object>"
            ]
          },
          "metadata": {
            "tags": []
          }
        },
        {
          "output_type": "stream",
          "text": [
            "\n",
            "iteration:  27%|██▋       | 281/1050 [08:09<23:07,  1.80s/it]\u001b[A\n",
            "iteration:  27%|██▋       | 282/1050 [08:11<23:03,  1.80s/it]\u001b[A\n",
            "iteration:  27%|██▋       | 283/1050 [08:13<23:06,  1.81s/it]\u001b[A\n",
            "iteration:  27%|██▋       | 284/1050 [08:14<22:53,  1.79s/it]\u001b[A\n",
            "iteration:  27%|██▋       | 285/1050 [08:16<22:48,  1.79s/it]\u001b[A\n",
            "iteration:  27%|██▋       | 286/1050 [08:18<22:51,  1.80s/it]\u001b[A\n",
            "iteration:  27%|██▋       | 287/1050 [08:20<22:48,  1.79s/it]\u001b[A\n",
            "iteration:  27%|██▋       | 288/1050 [08:22<22:46,  1.79s/it]\u001b[A\n",
            "iteration:  28%|██▊       | 289/1050 [08:23<22:43,  1.79s/it]\u001b[A\n",
            "iteration:  28%|██▊       | 290/1050 [08:25<22:38,  1.79s/it]\u001b[A\n",
            "iteration:  28%|██▊       | 291/1050 [08:27<22:36,  1.79s/it]\u001b[A\n",
            "iteration:  28%|██▊       | 292/1050 [08:29<22:39,  1.79s/it]\u001b[A\n",
            "iteration:  28%|██▊       | 293/1050 [08:31<22:37,  1.79s/it]\u001b[A\n",
            "iteration:  28%|██▊       | 294/1050 [08:32<22:39,  1.80s/it]\u001b[A\n",
            "iteration:  28%|██▊       | 295/1050 [08:34<22:45,  1.81s/it]\u001b[A\n",
            "iteration:  28%|██▊       | 296/1050 [08:36<22:41,  1.81s/it]\u001b[A\n",
            "iteration:  28%|██▊       | 297/1050 [08:38<22:36,  1.80s/it]\u001b[A\n",
            "iteration:  28%|██▊       | 298/1050 [08:40<22:38,  1.81s/it]\u001b[A\n",
            "iteration:  28%|██▊       | 299/1050 [08:41<22:31,  1.80s/it]\u001b[A\n",
            "\n",
            "epochs:   0%|          | 0/20 [08:45<?, ?it/s]\n",
            "iteration:  29%|██▊       | 300/1050 [08:45<22:25,  1.79s/it]\u001b[A"
          ],
          "name": "stderr"
        },
        {
          "output_type": "stream",
          "text": [
            "image updated at \"./an_apple_next_to_a_fireplace.000015.jpg\"\n"
          ],
          "name": "stdout"
        },
        {
          "output_type": "display_data",
          "data": {
            "image/png": "./an_apple_next_to_a_fireplace.png",
            "text/plain": [
              "<IPython.core.display.Image object>"
            ]
          },
          "metadata": {
            "tags": []
          }
        },
        {
          "output_type": "stream",
          "text": [
            "\n",
            "iteration:  29%|██▊       | 301/1050 [08:45<22:40,  1.82s/it]\u001b[A\n",
            "iteration:  29%|██▉       | 302/1050 [08:47<22:33,  1.81s/it]\u001b[A\n",
            "iteration:  29%|██▉       | 303/1050 [08:49<22:24,  1.80s/it]\u001b[A\n",
            "iteration:  29%|██▉       | 304/1050 [08:50<22:21,  1.80s/it]\u001b[A\n",
            "iteration:  29%|██▉       | 306/1050 [08:54<22:16,  1.80s/it]\u001b[A\n",
            "iteration:  29%|██▉       | 307/1050 [08:56<22:12,  1.79s/it]\u001b[A\n",
            "iteration:  29%|██▉       | 308/1050 [08:58<22:08,  1.79s/it]\u001b[A\n",
            "iteration:  29%|██▉       | 309/1050 [08:59<22:02,  1.79s/it]\u001b[A\n",
            "iteration:  30%|██▉       | 310/1050 [09:01<21:56,  1.78s/it]\u001b[A\n",
            "iteration:  30%|██▉       | 311/1050 [09:03<21:58,  1.78s/it]\u001b[A\n",
            "iteration:  30%|██▉       | 312/1050 [09:05<21:53,  1.78s/it]\u001b[A\n",
            "iteration:  30%|██▉       | 313/1050 [09:06<21:57,  1.79s/it]\u001b[A\n",
            "iteration:  30%|██▉       | 314/1050 [09:08<21:51,  1.78s/it]\u001b[A\n",
            "iteration:  30%|███       | 315/1050 [09:10<21:55,  1.79s/it]\u001b[A\n",
            "iteration:  30%|███       | 316/1050 [09:12<21:55,  1.79s/it]\u001b[A\n",
            "iteration:  30%|███       | 317/1050 [09:14<21:51,  1.79s/it]\u001b[A\n",
            "iteration:  30%|███       | 318/1050 [09:15<21:48,  1.79s/it]\u001b[A\n",
            "iteration:  30%|███       | 319/1050 [09:17<21:46,  1.79s/it]\u001b[A\n",
            "\n",
            "epochs:   0%|          | 0/20 [09:21<?, ?it/s]\n",
            "iteration:  30%|███       | 320/1050 [09:21<21:44,  1.79s/it]\u001b[A"
          ],
          "name": "stderr"
        },
        {
          "output_type": "stream",
          "text": [
            "image updated at \"./an_apple_next_to_a_fireplace.000016.jpg\"\n"
          ],
          "name": "stdout"
        },
        {
          "output_type": "display_data",
          "data": {
            "image/png": "./an_apple_next_to_a_fireplace.png",
            "text/plain": [
              "<IPython.core.display.Image object>"
            ]
          },
          "metadata": {
            "tags": []
          }
        },
        {
          "output_type": "stream",
          "text": [
            "\n",
            "iteration:  31%|███       | 321/1050 [09:21<21:52,  1.80s/it]\u001b[A\n",
            "iteration:  31%|███       | 322/1050 [09:23<21:48,  1.80s/it]\u001b[A\n",
            "iteration:  31%|███       | 323/1050 [09:24<21:45,  1.80s/it]\u001b[A\n",
            "iteration:  31%|███       | 324/1050 [09:26<21:44,  1.80s/it]\u001b[A\n",
            "iteration:  31%|███       | 325/1050 [09:28<21:42,  1.80s/it]\u001b[A\n",
            "iteration:  31%|███       | 326/1050 [09:30<21:36,  1.79s/it]\u001b[A\n",
            "iteration:  31%|███       | 327/1050 [09:32<21:36,  1.79s/it]\u001b[A\n",
            "iteration:  31%|███       | 328/1050 [09:33<21:39,  1.80s/it]\u001b[A\n",
            "iteration:  31%|███▏      | 329/1050 [09:35<21:37,  1.80s/it]\u001b[A\n",
            "iteration:  31%|███▏      | 330/1050 [09:37<21:32,  1.80s/it]\u001b[A\n",
            "iteration:  32%|███▏      | 331/1050 [09:39<21:35,  1.80s/it]\u001b[A\n",
            "iteration:  32%|███▏      | 332/1050 [09:40<21:23,  1.79s/it]\u001b[A\n",
            "iteration:  32%|███▏      | 333/1050 [09:42<21:17,  1.78s/it]\u001b[A\n",
            "iteration:  32%|███▏      | 334/1050 [09:44<21:16,  1.78s/it]\u001b[A\n",
            "iteration:  32%|███▏      | 335/1050 [09:46<21:16,  1.79s/it]\u001b[A\n",
            "iteration:  32%|███▏      | 336/1050 [09:48<21:17,  1.79s/it]\u001b[A\n",
            "iteration:  32%|███▏      | 337/1050 [09:49<21:15,  1.79s/it]\u001b[A\n",
            "iteration:  32%|███▏      | 338/1050 [09:51<21:07,  1.78s/it]\u001b[A\n",
            "iteration:  32%|███▏      | 339/1050 [09:53<21:05,  1.78s/it]\u001b[A\n",
            "\n",
            "epochs:   0%|          | 0/20 [09:57<?, ?it/s]\n",
            "iteration:  32%|███▏      | 340/1050 [09:57<21:06,  1.78s/it]\u001b[A"
          ],
          "name": "stderr"
        },
        {
          "output_type": "stream",
          "text": [
            "image updated at \"./an_apple_next_to_a_fireplace.000017.jpg\"\n"
          ],
          "name": "stdout"
        },
        {
          "output_type": "display_data",
          "data": {
            "image/png": "./an_apple_next_to_a_fireplace.png",
            "text/plain": [
              "<IPython.core.display.Image object>"
            ]
          },
          "metadata": {
            "tags": []
          }
        },
        {
          "output_type": "stream",
          "text": [
            "\n",
            "iteration:  32%|███▏      | 341/1050 [09:57<21:23,  1.81s/it]\u001b[A\n",
            "iteration:  33%|███▎      | 342/1050 [09:58<21:17,  1.80s/it]\u001b[A\n",
            "iteration:  33%|███▎      | 343/1050 [10:00<21:12,  1.80s/it]\u001b[A\n",
            "iteration:  33%|███▎      | 344/1050 [10:02<21:07,  1.80s/it]\u001b[A\n",
            "iteration:  33%|███▎      | 345/1050 [10:04<21:00,  1.79s/it]\u001b[A\n",
            "iteration:  33%|███▎      | 346/1050 [10:06<20:58,  1.79s/it]\u001b[A\n",
            "iteration:  33%|███▎      | 347/1050 [10:07<21:02,  1.80s/it]\u001b[A\n",
            "iteration:  33%|███▎      | 348/1050 [10:09<21:05,  1.80s/it]\u001b[A\n",
            "iteration:  33%|███▎      | 349/1050 [10:11<21:03,  1.80s/it]\u001b[A\n",
            "iteration:  33%|███▎      | 350/1050 [10:13<21:02,  1.80s/it]\u001b[A\n",
            "iteration:  33%|███▎      | 351/1050 [10:15<20:55,  1.80s/it]\u001b[A\n",
            "iteration:  34%|███▎      | 352/1050 [10:16<21:01,  1.81s/it]\u001b[A\n",
            "iteration:  34%|███▎      | 353/1050 [10:18<21:01,  1.81s/it]\u001b[A\n",
            "iteration:  34%|███▎      | 354/1050 [10:20<20:59,  1.81s/it]\u001b[A\n",
            "iteration:  34%|███▍      | 355/1050 [10:22<20:59,  1.81s/it]\u001b[A\n",
            "iteration:  34%|███▍      | 356/1050 [10:24<20:48,  1.80s/it]\u001b[A\n",
            "iteration:  34%|███▍      | 358/1050 [10:27<20:47,  1.80s/it]\u001b[A\n",
            "iteration:  34%|███▍      | 359/1050 [10:29<20:38,  1.79s/it]\u001b[A\n",
            "\n",
            "epochs:   0%|          | 0/20 [10:33<?, ?it/s]\n",
            "iteration:  34%|███▍      | 360/1050 [10:33<20:32,  1.79s/it]\u001b[A"
          ],
          "name": "stderr"
        },
        {
          "output_type": "stream",
          "text": [
            "image updated at \"./an_apple_next_to_a_fireplace.000018.jpg\"\n"
          ],
          "name": "stdout"
        },
        {
          "output_type": "display_data",
          "data": {
            "image/png": "./an_apple_next_to_a_fireplace.png",
            "text/plain": [
              "<IPython.core.display.Image object>"
            ]
          },
          "metadata": {
            "tags": []
          }
        },
        {
          "output_type": "stream",
          "text": [
            "\n",
            "iteration:  34%|███▍      | 361/1050 [10:33<20:46,  1.81s/it]\u001b[A\n",
            "iteration:  34%|███▍      | 362/1050 [10:34<20:43,  1.81s/it]\u001b[A\n",
            "iteration:  35%|███▍      | 363/1050 [10:36<20:40,  1.81s/it]\u001b[A\n",
            "iteration:  35%|███▍      | 364/1050 [10:38<20:38,  1.80s/it]\u001b[A\n",
            "iteration:  35%|███▍      | 365/1050 [10:40<20:33,  1.80s/it]\u001b[A\n",
            "iteration:  35%|███▍      | 366/1050 [10:42<20:32,  1.80s/it]\u001b[A\n",
            "iteration:  35%|███▍      | 367/1050 [10:43<20:31,  1.80s/it]\u001b[A\n",
            "iteration:  35%|███▌      | 368/1050 [10:45<20:31,  1.81s/it]\u001b[A\n",
            "iteration:  35%|███▌      | 369/1050 [10:47<20:26,  1.80s/it]\u001b[A\n",
            "iteration:  35%|███▌      | 370/1050 [10:49<20:25,  1.80s/it]\u001b[A\n",
            "iteration:  35%|███▌      | 371/1050 [10:51<20:20,  1.80s/it]\u001b[A\n",
            "iteration:  35%|███▌      | 372/1050 [10:52<20:08,  1.78s/it]\u001b[A\n",
            "iteration:  36%|███▌      | 373/1050 [10:54<20:11,  1.79s/it]\u001b[A\n",
            "iteration:  36%|███▌      | 374/1050 [10:56<20:09,  1.79s/it]\u001b[A\n",
            "iteration:  36%|███▌      | 375/1050 [10:58<20:12,  1.80s/it]\u001b[A\n",
            "iteration:  36%|███▌      | 376/1050 [11:00<20:12,  1.80s/it]\u001b[A\n",
            "iteration:  36%|███▌      | 377/1050 [11:01<20:16,  1.81s/it]\u001b[A\n",
            "iteration:  36%|███▌      | 378/1050 [11:03<20:05,  1.79s/it]\u001b[A\n",
            "iteration:  36%|███▌      | 379/1050 [11:05<20:03,  1.79s/it]\u001b[A\n",
            "\n",
            "epochs:   0%|          | 0/20 [11:09<?, ?it/s]\n",
            "iteration:  36%|███▌      | 380/1050 [11:09<20:03,  1.80s/it]\u001b[A"
          ],
          "name": "stderr"
        },
        {
          "output_type": "stream",
          "text": [
            "image updated at \"./an_apple_next_to_a_fireplace.000019.jpg\"\n"
          ],
          "name": "stdout"
        },
        {
          "output_type": "display_data",
          "data": {
            "image/png": "./an_apple_next_to_a_fireplace.png",
            "text/plain": [
              "<IPython.core.display.Image object>"
            ]
          },
          "metadata": {
            "tags": []
          }
        },
        {
          "output_type": "stream",
          "text": [
            "\n",
            "iteration:  36%|███▋      | 381/1050 [11:09<20:09,  1.81s/it]\u001b[A\n",
            "iteration:  36%|███▋      | 382/1050 [11:10<20:02,  1.80s/it]\u001b[A\n",
            "iteration:  36%|███▋      | 383/1050 [11:12<20:05,  1.81s/it]\u001b[A\n",
            "iteration:  37%|███▋      | 384/1050 [11:14<20:03,  1.81s/it]\u001b[A\n",
            "iteration:  37%|███▋      | 385/1050 [11:16<19:53,  1.79s/it]\u001b[A\n",
            "iteration:  37%|███▋      | 386/1050 [11:18<19:53,  1.80s/it]\u001b[A\n",
            "iteration:  37%|███▋      | 387/1050 [11:19<19:54,  1.80s/it]\u001b[A\n",
            "iteration:  37%|███▋      | 388/1050 [11:21<19:53,  1.80s/it]\u001b[A\n",
            "iteration:  37%|███▋      | 389/1050 [11:23<19:53,  1.81s/it]\u001b[A\n",
            "iteration:  37%|███▋      | 390/1050 [11:25<19:45,  1.80s/it]\u001b[A\n",
            "iteration:  37%|███▋      | 391/1050 [11:27<19:45,  1.80s/it]\u001b[A\n",
            "iteration:  37%|███▋      | 392/1050 [11:28<19:42,  1.80s/it]\u001b[A\n",
            "iteration:  37%|███▋      | 393/1050 [11:30<19:39,  1.79s/it]\u001b[A\n",
            "iteration:  38%|███▊      | 394/1050 [11:32<19:39,  1.80s/it]\u001b[A\n",
            "iteration:  38%|███▊      | 395/1050 [11:34<19:32,  1.79s/it]\u001b[A\n",
            "iteration:  38%|███▊      | 396/1050 [11:36<19:34,  1.80s/it]\u001b[A\n",
            "iteration:  38%|███▊      | 397/1050 [11:37<19:33,  1.80s/it]\u001b[A\n",
            "iteration:  38%|███▊      | 398/1050 [11:39<19:27,  1.79s/it]\u001b[A\n",
            "iteration:  38%|███▊      | 399/1050 [11:41<19:25,  1.79s/it]\u001b[A\n",
            "\n",
            "epochs:   0%|          | 0/20 [11:45<?, ?it/s]\n",
            "iteration:  38%|███▊      | 400/1050 [11:45<19:31,  1.80s/it]\u001b[A"
          ],
          "name": "stderr"
        },
        {
          "output_type": "stream",
          "text": [
            "image updated at \"./an_apple_next_to_a_fireplace.000020.jpg\"\n"
          ],
          "name": "stdout"
        },
        {
          "output_type": "display_data",
          "data": {
            "image/png": "./an_apple_next_to_a_fireplace.png",
            "text/plain": [
              "<IPython.core.display.Image object>"
            ]
          },
          "metadata": {
            "tags": []
          }
        },
        {
          "output_type": "stream",
          "text": [
            "\n",
            "iteration:  38%|███▊      | 401/1050 [11:45<19:35,  1.81s/it]\u001b[A\n",
            "iteration:  38%|███▊      | 402/1050 [11:46<19:30,  1.81s/it]\u001b[A\n",
            "iteration:  38%|███▊      | 403/1050 [11:48<19:31,  1.81s/it]\u001b[A\n",
            "iteration:  38%|███▊      | 404/1050 [11:50<19:29,  1.81s/it]\u001b[A\n",
            "iteration:  39%|███▊      | 405/1050 [11:52<19:26,  1.81s/it]\u001b[A\n",
            "iteration:  39%|███▊      | 406/1050 [11:54<19:21,  1.80s/it]\u001b[A"
          ],
          "name": "stderr"
        }
      ]
    }
  ]
}